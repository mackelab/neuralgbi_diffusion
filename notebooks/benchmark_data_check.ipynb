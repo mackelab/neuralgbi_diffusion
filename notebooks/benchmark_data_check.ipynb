{
 "cells": [
  {
   "cell_type": "code",
   "execution_count": 22,
   "metadata": {},
   "outputs": [],
   "source": [
    "from pathlib import Path\n",
    "import sys\n",
    "sys.path.append(str(Path.cwd() / \"..\"))\n",
    "\n",
    "import pickle\n",
    "import torch"
   ]
  },
  {
   "cell_type": "code",
   "execution_count": 23,
   "metadata": {},
   "outputs": [],
   "source": [
    "def pickle_load(filename: str |Path) -> torch.Tensor:\n",
    "    with open(filename, \"rb\") as f:\n",
    "        loaded = pickle.load(f)\n",
    "    return loaded"
   ]
  },
  {
   "cell_type": "code",
   "execution_count": 29,
   "metadata": {},
   "outputs": [
    {
     "name": "stdout",
     "output_type": "stream",
     "text": [
      "/home/robin/projects/lab_project/neuralgbi_diffusion/gbi_results/benchmark/uniform/xos/xo_specified_unknown.pkl\n",
      "torch.Size([10, 1])\n",
      "/home/robin/projects/lab_project/neuralgbi_diffusion/gbi_results/benchmark/uniform/xos/xo_misspecified_known.pkl\n",
      "torch.Size([10, 1])\n",
      "/home/robin/projects/lab_project/neuralgbi_diffusion/gbi_results/benchmark/uniform/xos/theta_gt_known.pkl\n",
      "torch.Size([10, 1])\n",
      "/home/robin/projects/lab_project/neuralgbi_diffusion/gbi_results/benchmark/uniform/xos/theta_gt_unknown.pkl\n",
      "torch.Size([10, 1])\n",
      "/home/robin/projects/lab_project/neuralgbi_diffusion/gbi_results/benchmark/uniform/xos/xo_misspecified_unknown.pkl\n",
      "torch.Size([10, 1])\n",
      "/home/robin/projects/lab_project/neuralgbi_diffusion/gbi_results/benchmark/uniform/xos/xo_specified_known.pkl\n",
      "torch.Size([10, 1])\n",
      "/home/robin/projects/lab_project/neuralgbi_diffusion/gbi_results/benchmark/linear_gaussian/xos/xo_specified_unknown.pkl\n",
      "torch.Size([10, 10])\n",
      "/home/robin/projects/lab_project/neuralgbi_diffusion/gbi_results/benchmark/linear_gaussian/xos/xo_misspecified_known.pkl\n",
      "torch.Size([10, 10])\n",
      "/home/robin/projects/lab_project/neuralgbi_diffusion/gbi_results/benchmark/linear_gaussian/xos/theta_gt_known.pkl\n",
      "torch.Size([10, 10])\n",
      "/home/robin/projects/lab_project/neuralgbi_diffusion/gbi_results/benchmark/linear_gaussian/xos/theta_gt_unknown.pkl\n",
      "torch.Size([10, 10])\n",
      "/home/robin/projects/lab_project/neuralgbi_diffusion/gbi_results/benchmark/linear_gaussian/xos/xo_misspecified_unknown.pkl\n",
      "torch.Size([10, 10])\n",
      "/home/robin/projects/lab_project/neuralgbi_diffusion/gbi_results/benchmark/linear_gaussian/xos/xo_specified_known.pkl\n",
      "torch.Size([10, 10])\n",
      "/home/robin/projects/lab_project/neuralgbi_diffusion/gbi_results/benchmark/gaussian_mixture/xos/xo_specified_unknown.pkl\n",
      "torch.Size([10, 5, 2])\n",
      "/home/robin/projects/lab_project/neuralgbi_diffusion/gbi_results/benchmark/gaussian_mixture/xos/xo_misspecified_known.pkl\n",
      "torch.Size([10, 5, 2])\n",
      "/home/robin/projects/lab_project/neuralgbi_diffusion/gbi_results/benchmark/gaussian_mixture/xos/theta_gt_known.pkl\n",
      "torch.Size([10, 2])\n",
      "/home/robin/projects/lab_project/neuralgbi_diffusion/gbi_results/benchmark/gaussian_mixture/xos/theta_gt_unknown.pkl\n",
      "torch.Size([10, 2])\n",
      "/home/robin/projects/lab_project/neuralgbi_diffusion/gbi_results/benchmark/gaussian_mixture/xos/xo_misspecified_unknown.pkl\n",
      "torch.Size([10, 5, 2])\n",
      "/home/robin/projects/lab_project/neuralgbi_diffusion/gbi_results/benchmark/gaussian_mixture/xos/xo_specified_known.pkl\n",
      "torch.Size([10, 5, 2])\n",
      "/home/robin/projects/lab_project/neuralgbi_diffusion/gbi_results/benchmark/two_moons/xos/xo_specified_unknown.pkl\n",
      "torch.Size([10, 2])\n",
      "/home/robin/projects/lab_project/neuralgbi_diffusion/gbi_results/benchmark/two_moons/xos/xo_misspecified_known.pkl\n",
      "torch.Size([10, 2])\n",
      "/home/robin/projects/lab_project/neuralgbi_diffusion/gbi_results/benchmark/two_moons/xos/theta_gt_known.pkl\n",
      "torch.Size([10, 2])\n",
      "/home/robin/projects/lab_project/neuralgbi_diffusion/gbi_results/benchmark/two_moons/xos/theta_gt_unknown.pkl\n",
      "torch.Size([10, 2])\n",
      "/home/robin/projects/lab_project/neuralgbi_diffusion/gbi_results/benchmark/two_moons/xos/xo_misspecified_unknown.pkl\n",
      "torch.Size([10, 2])\n",
      "/home/robin/projects/lab_project/neuralgbi_diffusion/gbi_results/benchmark/two_moons/xos/xo_specified_known.pkl\n",
      "torch.Size([10, 2])\n"
     ]
    }
   ],
   "source": [
    "root_path = list(Path.cwd().parents)[0]\n",
    "gbi_data_path = root_path.joinpath(\"gbi_results\", \"benchmark\").glob(\"*/xos/*.pkl\")\n",
    "for path in gbi_data_path:\n",
    "    print(pickle_load(path).shape)"
   ]
  },
  {
   "cell_type": "code",
   "execution_count": 73,
   "metadata": {},
   "outputs": [],
   "source": [
    "torch.load(\"../data/observed_data/linear_gaussian_10.pt\", weights_only=True).values()\n",
    "oberserved_data_dir = root_path /  \"data\" / \"observed_data\"\n",
    "gbi_data_dir = root_path /  \"data\" / \"gbi_data\"\n",
    "gbi_data_path = root_path.joinpath(\"gbi_results\", \"benchmark\").glob(\"*/xos/xo*.pkl\")\n",
    "for path in gbi_data_path:\n",
    "    dataset_name = str(list(path.parents)[0].parent).split(\"/\")[-1]\n",
    "    dataset = torch.load(oberserved_data_dir / (dataset_name + \"_10.pt\"), weights_only=True)                  \n",
    "    gbi_x = pickle_load(path)\n",
    "    # get gt theta\n",
    "    theta = pickle_load(path.parent / (\"theta_gt_\" + path.stem.split(\"_\")[-1] + \".pkl\"))\n",
    "    if dataset_name == \"gaussian_mixture\":\n",
    "        theta = theta[:, None].repeat(1, gbi_x.shape[1], 1)\n",
    "        theta = theta.T.flatten(start_dim=1).T\n",
    "        gbi_x = gbi_x.T.flatten(start_dim=1).T\n",
    "    dataset[\"_x\"] = gbi_x\n",
    "    dataset[\"_theta\"] = theta\n",
    "    \n",
    "    save_name = f\"{dataset_name}_{len(gbi_x)}.pt\"\n",
    "    save_dir = gbi_data_dir / path.stem[3:] / save_name\n",
    "    torch.save(dataset, save_dir)"
   ]
  }
 ],
 "metadata": {
  "kernelspec": {
   "display_name": "gbi",
   "language": "python",
   "name": "python3"
  },
  "language_info": {
   "codemirror_mode": {
    "name": "ipython",
    "version": 3
   },
   "file_extension": ".py",
   "mimetype": "text/x-python",
   "name": "python",
   "nbconvert_exporter": "python",
   "pygments_lexer": "ipython3",
   "version": "3.12.8"
  }
 },
 "nbformat": 4,
 "nbformat_minor": 2
}
