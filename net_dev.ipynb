{
 "cells": [
  {
   "cell_type": "code",
   "execution_count": 1,
   "metadata": {},
   "outputs": [
    {
     "data": {
      "text/plain": [
       "torch.Size([32, 7, 1])"
      ]
     },
     "execution_count": 1,
     "metadata": {},
     "output_type": "execute_result"
    }
   ],
   "source": [
    "from typing import List\n",
    "\n",
    "import torch\n",
    "import torch.nn as nn\n",
    "from torch import Tensor\n",
    "from torch.nn import Linear, Sequential, Module\n",
    "\n",
    "\n",
    "class FeedForwardNetwork(Module):\n",
    "    def __init__(\n",
    "        self,\n",
    "        input_dim: int,\n",
    "        output_dim: int,\n",
    "        architecture: List[int] = [],\n",
    "        activation_function: str = \"ReLU\",\n",
    "        device: str = \"cpu\",\n",
    "        *args,\n",
    "        **kwargs,\n",
    "    ) -> None:\n",
    "        super().__init__(*args, **kwargs)\n",
    "        self._input_dim = input_dim\n",
    "        self._output_dim = output_dim\n",
    "\n",
    "        self._activation_function_type = getattr(nn, activation_function)\n",
    "        self._linear = self._create_linear_unit(architecture).to(device)\n",
    "\n",
    "    def _create_linear_unit(self, architecture: List[int]) -> Sequential:\n",
    "        \"\"\"creates a linear unit specified with architecture and self._activation_function_type\n",
    "\n",
    "        Args:\n",
    "            architecture (List[int]): dimension of linear layers\n",
    "\n",
    "        Returns:\n",
    "            Sequential: sequential linear unit\n",
    "        \"\"\"\n",
    "        # input layer\n",
    "        if len(architecture) == 0:\n",
    "            return Linear(self._input_dim, self._output_dim)\n",
    "\n",
    "        layers = [\n",
    "            Linear(self._input_dim, int(architecture[0])),\n",
    "            self._activation_function_type(),\n",
    "        ]\n",
    "        # add hidden layers\n",
    "        for idx in range(len(architecture) - 1):\n",
    "            layers.extend(\n",
    "                [\n",
    "                    Linear(int(architecture[idx]), int(architecture[idx + 1])),\n",
    "                    self._activation_function_type(),\n",
    "                ]\n",
    "            )\n",
    "        # output layer\n",
    "        layers.append(Linear(architecture[-1], self._output_dim))\n",
    "        sequence = Sequential(*layers)\n",
    "        return sequence\n",
    "\n",
    "    def forward(self, x: Tensor):\n",
    "        return self._linear(x)\n",
    "    \n",
    "\n",
    "\n",
    "class SBINetwork(Module):\n",
    "    def __init__(self, theta_dim: int, simulator_out_dim: int, latent_dim: int = 256, *args, **kwargs):\n",
    "        super().__init__(*args, **kwargs)\n",
    "\n",
    "        self._theta_encoder = FeedForwardNetwork(theta_dim, latent_dim, [256])\n",
    "        self._simulator_out_encoder = FeedForwardNetwork(simulator_out_dim, latent_dim, [256])\n",
    "        self._collector = FeedForwardNetwork(2 * latent_dim, 1, [256, 256, 128])\n",
    "\n",
    "    def forward(self, theta: Tensor, x_target: Tensor) -> Tensor:\n",
    "        \"\"\"_summary_\n",
    "\n",
    "        Args:\n",
    "            theta (Tensor): (batch_size, theta_dim)\n",
    "            x_target (Tensor): (batch_size, n_target, simulator_dim)\n",
    "\n",
    "        Returns:\n",
    "            Tensor: (batch_size, n_target, 1)\n",
    "        \"\"\"\n",
    "        theta_enc = self._theta_encoder.forward(theta)\n",
    "        simulator_out_enc = self._simulator_out_encoder.forward(x_target)\n",
    "        # repeat the theta  encoding along the n_target dimension\n",
    "        theta_repeat_dim = (1, simulator_out_enc.shape[1], 1)\n",
    "        theta_enc = theta_enc[:, None].repeat(theta_repeat_dim)\n",
    "        \n",
    "        res = self._collector(torch.cat([theta_enc, simulator_out_enc], dim=-1))\n",
    "        return res\n",
    "    \n",
    "\n",
    "batch_size = 32\n",
    "theta_dim = 5\n",
    "sim_out_dim = 2\n",
    "n_target = 7\n",
    "\n",
    "theta = torch.rand(batch_size, theta_dim)\n",
    "x = torch.rand(batch_size, sim_out_dim)\n",
    "x_target = torch.rand(batch_size, n_target, sim_out_dim)\n",
    "\n",
    "\n",
    "net = SBINetwork(theta_dim, sim_out_dim)\n",
    "net.forward(theta, x_target).shape"
   ]
  },
  {
   "cell_type": "code",
   "execution_count": 2,
   "metadata": {},
   "outputs": [
    {
     "name": "stdout",
     "output_type": "stream",
     "text": [
      "torch.Size([32, 7])\n"
     ]
    },
    {
     "data": {
      "text/plain": [
       "tensor(2.2185, dtype=torch.float64, grad_fn=<MeanBackward0>)"
      ]
     },
     "execution_count": 2,
     "metadata": {},
     "output_type": "execute_result"
    }
   ],
   "source": [
    "from typing import Tuple\n",
    "from lightning import LightningModule\n",
    "import torch\n",
    "\n",
    "\n",
    "class SBICriterion(nn.Module):\n",
    "    def __init__(\n",
    "        self,\n",
    "        distance_order: int = 2.0,\n",
    "    ):\n",
    "        self._distance_order = distance_order\n",
    "\n",
    "    def forward(self, pred: Tensor, x: Tensor, x_target: Tensor) -> Tensor:\n",
    "        \"\"\"_summary_\n",
    "\n",
    "        Args:\n",
    "            pred (Tensor): (batch_size, 1)\n",
    "            x (Tensor): (batch_size, n_sim_features)\n",
    "            x_target (Tensor): (batch_size, n_target, n_sim_features)\n",
    "\n",
    "        Returns:\n",
    "            Tensor: loss\n",
    "        \"\"\"\n",
    "        # distance matrix\n",
    "        d = self.sample_distance(x, x_target)\n",
    "        squared_distance = torch.float_power(pred[..., None] - d, 2)\n",
    "        squared_distance = torch.sum(squared_distance, dim=-1)\n",
    "        return torch.mean(squared_distance)\n",
    "\n",
    "    def sample_distance(self, x: Tensor, x_target: Tensor) -> Tensor:\n",
    "        \"\"\"compute L2 distance\n",
    "\n",
    "        Args:\n",
    "            x (Tensor): (batch_size, n_sim_features)\n",
    "            x_target (Tensor): (batch_size, n_target, n_sim_features)\n",
    "\n",
    "        Returns:\n",
    "            Tensor: (batch_size, n_target)\n",
    "        \"\"\"\n",
    "        d = x[:, None] - x_target\n",
    "        distance = torch.linalg.norm(d, ord=self._distance_order, dim=-1)\n",
    "        return distance\n",
    "\n",
    "\n",
    "class SBI(LightningModule):\n",
    "    def __init__(self, prior_dim: int, simulator_out_dim: int, *args, **kwargs):\n",
    "        super().__init__(*args, **kwargs)\n",
    "\n",
    "        self.net = SBINetwork(\n",
    "            theta_dim=prior_dim, simulator_out_dim=simulator_out_dim, latent_dim=256\n",
    "        )\n",
    "        self.criterion = SBICriterion(distance_order=2)\n",
    "\n",
    "\n",
    "    def training_step(self, batch: Tuple[Tensor, Tensor, Tensor], batch_idx: int):\n",
    "        prior, simulator_out, x_target = batch\n",
    "        network_res = self.forward(prior, x_target)\n",
    "        loss = self.criterion.forward(network_res, simulator_out, x_target)\n",
    "        return loss\n",
    "\n",
    "    def forward(self, prior: Tensor, x_target: Tensor) -> Tensor:\n",
    "        \"\"\"_summary_\n",
    "\n",
    "        Args:\n",
    "            prior (Tensor): (batch_size, n_prior_features)\n",
    "            x_target (Tensor): (batch_size, n_target, n_sim_features)\n",
    "\n",
    "        Returns:\n",
    "            Tensor: (batch_size, n_target)\n",
    "        \"\"\"\n",
    "        return self.net.forward(prior, x_target)\n",
    "    \n",
    "pdist = nn.PairwiseDistance(p=2)\n",
    "input1 = torch.randn(batch_size, 1, 128)\n",
    "input2 = torch.randn(batch_size, n_target, 128)\n",
    "output = pdist(input1, input2)\n",
    "print(output.shape)\n",
    "\n",
    "output.shape, net.forward(theta, x_target).shape\n",
    "\n",
    "\n",
    "criterion = SBICriterion()\n",
    "criterion.forward(net.forward(theta, x_target), x,x_target)"
   ]
  },
  {
   "cell_type": "code",
   "execution_count": 2,
   "metadata": {},
   "outputs": [
    {
     "name": "stdout",
     "output_type": "stream",
     "text": [
      "{'_theta': tensor([[ 0.8570, -0.7816],\n",
      "        [-0.9455,  0.6795],\n",
      "        [-0.5851,  0.7095],\n",
      "        ...,\n",
      "        [ 0.5830, -0.5815],\n",
      "        [-0.1822, -0.6158],\n",
      "        [ 0.4536,  0.3972]]), '_x': tensor([[ 0.3070, -1.1536],\n",
      "        [ 0.1359,  1.2175],\n",
      "        [ 0.2363,  0.8836],\n",
      "        ...,\n",
      "        [ 0.2641, -0.9388],\n",
      "        [-0.2093, -0.2905],\n",
      "        [-0.3317,  0.0571]]), '_target': tensor([[ 0.2965, -1.1465],\n",
      "        [ 0.1270,  1.2170],\n",
      "        [ 0.2245,  0.8811],\n",
      "        ...,\n",
      "        [ 0.2732, -0.9494],\n",
      "        [-0.1932, -0.2865],\n",
      "        [-0.3353,  0.0664]]), '_measured': None, '_target_noise_std': 0.01}\n"
     ]
    },
    {
     "data": {
      "text/plain": [
       "<gbi_diff.dataset.dataset.SBIDataset at 0x7e7497e2f290>"
      ]
     },
     "execution_count": 2,
     "metadata": {},
     "output_type": "execute_result"
    }
   ],
   "source": [
    "from gbi_diff.dataset import SBIDataset\n",
    "\n",
    "dataset = SBIDataset.from_file(\"data/moon_100000.pt\")\n",
    "\n"
   ]
  },
  {
   "cell_type": "code",
   "execution_count": 5,
   "metadata": {},
   "outputs": [
    {
     "name": "stdout",
     "output_type": "stream",
     "text": [
      "torch.Size([32, 7])\n"
     ]
    },
    {
     "data": {
      "text/plain": [
       "tensor(2.0171, dtype=torch.float64, grad_fn=<MeanBackward0>)"
      ]
     },
     "execution_count": 5,
     "metadata": {},
     "output_type": "execute_result"
    }
   ],
   "source": [
    "pdist = nn.PairwiseDistance(p=2)\n",
    "input1 = torch.randn(batch_size, 1, 128)\n",
    "input2 = torch.randn(batch_size, n_target, 128)\n",
    "output = pdist(input1, input2)\n",
    "print(output.shape)\n",
    "\n",
    "output.shape, net.forward(theta, x_target).shape\n",
    "\n",
    "\n",
    "criterion = SBICriterion()\n",
    "criterion.forward(net.forward(theta, x_target), x,x_target)"
   ]
  }
 ],
 "metadata": {
  "kernelspec": {
   "display_name": "gbi_diff",
   "language": "python",
   "name": "python3"
  },
  "language_info": {
   "codemirror_mode": {
    "name": "ipython",
    "version": 3
   },
   "file_extension": ".py",
   "mimetype": "text/x-python",
   "name": "python",
   "nbconvert_exporter": "python",
   "pygments_lexer": "ipython3",
   "version": "3.11.10"
  }
 },
 "nbformat": 4,
 "nbformat_minor": 2
}
